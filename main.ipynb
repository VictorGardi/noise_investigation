{
    "cells": [
        {
            "cell_type": "code",
            "execution_count": 57,
            "source": [
                "import numpy as np\n",
                "import matplotlib.pyplot as plt\n"
            ],
            "outputs": [],
            "metadata": {}
        },
        {
            "cell_type": "code",
            "execution_count": 58,
            "source": [
                "n_years = 1\n",
                "n_months = 12*n_years\n",
                "n_days = 365*n_years\n",
                "n_hours = n_days*24\n",
                "n_seconds = int(n_hours*60)\n"
            ],
            "outputs": [],
            "metadata": {}
        },
        {
            "cell_type": "markdown",
            "source": [
                "Distribution of outcome per YEAR"
            ],
            "metadata": {}
        },
        {
            "cell_type": "code",
            "execution_count": 178,
            "source": [
                "n_years_to_simulate = 100000\n",
                "mu = 0.15 # could be mean gain in percentage\n",
                "sigma = 0.10 # 1 std\n",
                "s = np.random.normal(mu, sigma, n_years_to_simulate)\n"
            ],
            "outputs": [],
            "metadata": {}
        },
        {
            "cell_type": "code",
            "execution_count": 179,
            "source": [
                "count, bins, ignored = plt.hist(s, 30, density=True)\n",
                "plt.plot(bins, 1/(sigma * np.sqrt(2 * np.pi)) *\n",
                "               np.exp( - (bins - mu)**2 / (2 * sigma**2) ),\n",
                "         linewidth=2, color='r')\n",
                "plt.show()"
            ],
            "outputs": [
                {
                    "output_type": "display_data",
                    "data": {
                        "text/plain": [
                            "<Figure size 432x288 with 1 Axes>"
                        ],
                        "image/png": "[encoded data removed]"
                    },
                    "metadata": {
                        "needs_background": "light"
                    }
                }
            ],
            "metadata": {}
        },
        {
            "cell_type": "code",
            "execution_count": 180,
            "source": [
                "# count number of values where equal or larger than zero\n",
                "\n",
                "print('Probability to have a year with profit: {}'.format(np.sum(s > 0)/len(s)))"
            ],
            "outputs": [
                {
                    "output_type": "stream",
                    "name": "stdout",
                    "text": [
                        "Probability to have a year with profit: 0.93303\n"
                    ]
                }
            ],
            "metadata": {}
        },
        {
            "cell_type": "markdown",
            "source": [
                "Now we will try to estimate the probability to have a second with profit given that we know the probability to have a year with profit"
            ],
            "metadata": {}
        },
        {
            "cell_type": "code",
            "execution_count": 181,
            "source": [
                "def generate_distribution(mu, sigma, n_points):\n",
                "    distribution = np.random.normal(mu, sigma, n_points)\n",
                "    return distribution\n",
                "\n",
                "def calc_profit_per_year(rates, logging=False, plot=False):\n",
                "    if plot:\n",
                "        worth = np.zeros(len(rates) + 1) # we will have a start worth\n",
                "        worth[0] = 1 #buy for 1 in the beginning\n",
                "        for t, rate in enumerate(rates):\n",
                "            worth[t+1] = worth[t]*(1 + rate)\n",
                "        plt.plot(range(len(worth)), worth)\n",
                "        plt.show()\n",
                "        if logging:\n",
                "            print('Profit for the current year: {}'.format(worth[-1]))\n",
                "    else:\n",
                "        current_worth = 1\n",
                "        for t, rate in enumerate(rates):\n",
                "            current_worth = current_worth*(1 + rate)\n",
                "        if logging:\n",
                "            print('Profit for the current year: {}'.format(current_worth))\n",
                "        return current_worth\n"
            ],
            "outputs": [],
            "metadata": {}
        },
        {
            "cell_type": "code",
            "execution_count": 202,
            "source": [
                "mu = 0.0000099999\n",
                "sigma = 0.003\n",
                "rates = generate_distribution(mu, sigma, n_seconds)\n",
                "calc_profit_per_year(rates, logging=False, plot=True)"
            ],
            "outputs": [
                {
                    "output_type": "display_data",
                    "data": {
                        "text/plain": [
                            "<Figure size 432x288 with 1 Axes>"
                        ],
                        "image/png": "[encoded data removed]"
                    },
                    "metadata": {
                        "needs_background": "light"
                    }
                }
            ],
            "metadata": {}
        },
        {
            "cell_type": "code",
            "execution_count": 203,
            "source": [
                "# optimization \n",
                "from scipy import optimize\n",
                "\n",
                "def func(x):\n",
                "    # x[0] = mu, x[1] = sigma\n",
                "    count = 0\n",
                "    n_runs=1000\n",
                "    for i in range(n_runs):\n",
                "        rates = generate_distribution(x[0], x[1], n_seconds)\n",
                "        worth = calc_profit_per_year(rates)\n",
                "        if worth > 1:\n",
                "            count += 1\n",
                "    return [count/n_runs - 0.93303, 0]\n",
                "\n",
                "result = optimize.root(func , x0 = [0.00001, 0.003])\n",
                "x = result.x\n",
                "A, B = x                       \n",
                "x\n",
                "    "
            ],
            "outputs": [
                {
                    "output_type": "execute_result",
                    "data": {
                        "text/plain": [
                            "array([1.00000005e-05, 3.00000000e-03])"
                        ]
                    },
                    "metadata": {},
                    "execution_count": 203
                }
            ],
            "metadata": {}
        },
        {
            "cell_type": "code",
            "execution_count": 263,
            "source": [
                "mu = 0.0000099999\n",
                "sigma = 3.00000000e-03\n",
                "temp = list()\n",
                "for n in range(1000):\n",
                "    p = generate_distribution(mu, sigma, n_seconds)\n",
                "    temp.append(np.sum(p > 0)/len(p))\n",
                "\n",
                "print('Probability to have a second with profit: {}'.format(np.mean(temp)))"
            ],
            "outputs": [
                {
                    "output_type": "stream",
                    "name": "stdout",
                    "text": [
                        "Probability to have a second with profit: 0.5012888394216134\n"
                    ]
                }
            ],
            "metadata": {}
        },
        {
            "cell_type": "markdown",
            "source": [
                "Now we need to validate this estimation"
            ],
            "metadata": {}
        },
        {
            "cell_type": "code",
            "execution_count": 266,
            "source": [
                "def run_simulation(mu, sigma, n_runs=1000):\n",
                "    count = 0\n",
                "    for i in range(n_runs):\n",
                "        rates = generate_distribution(mu, sigma, n_seconds)\n",
                "        worth = calc_profit_per_year(rates)\n",
                "        if worth > 1:\n",
                "            count += 1\n",
                "    print('mu: {}'.format(mu))\n",
                "    print('Sigma: {}'.format(sigma))\n",
                "    print('Probability for positive profit: {}'.format(count/n_runs))\n",
                "\n",
                "mus = [0.0000099999, 0.0000099999, 0.0000099999]\n",
                "sigmas = [0.003, 0.0032, 0.0025]\n",
                "for mu, sigma in zip(mus, sigmas):\n",
                "    run_simulation(mu, sigma)"
            ],
            "outputs": [
                {
                    "output_type": "stream",
                    "name": "stdout",
                    "text": [
                        "mu: 9.9999e-06\n",
                        "Sigma: 0.003\n",
                        "Probability for positive profit: 0.909\n",
                        "mu: 9.9999e-06\n",
                        "Sigma: 0.0032\n",
                        "Probability for positive profit: 0.854\n",
                        "mu: 9.9999e-06\n",
                        "Sigma: 0.0025\n",
                        "Probability for positive profit: 0.974\n"
                    ]
                }
            ],
            "metadata": {}
        }
    ],
    "metadata": {
        "orig_nbformat": 4,
        "language_info": {
            "name": "python",
            "version": "3.9.0",
            "mimetype": "text/x-python",
            "codemirror_mode": {
                "name": "ipython",
                "version": 3
            },
            "pygments_lexer": "ipython3",
            "nbconvert_exporter": "python",
            "file_extension": ".py"
        },
        "kernelspec": {
            "name": "python3",
            "display_name": "Python 3.9.0 64-bit ('venv': venv)"
        },
        "interpreter": {
            "hash": "e731f8769e521b44989c715f1260190fb290bf0cf4d118abd4abb564b4f91e13"
        }
    },
    "nbformat": 4,
    "nbformat_minor": 2
}